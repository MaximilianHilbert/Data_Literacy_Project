{
 "cells": [
  {
   "cell_type": "markdown",
   "metadata": {},
   "source": [
    "# Project Data Literacy - Pre-Registration\n",
    "# Analysis of german rental market\n",
    "# by Maximilian Hilbert"
   ]
  },
  {
   "cell_type": "markdown",
   "metadata": {},
   "source": [
    "__TODO:__\n",
    "- Gathering links from wohnungen.com/mietpreise in order to find detailed information about the historical rental prices per m^2 of german cities (out of javascript cointainer get y and x values of the corresponding chart on website using regex)\n",
    "- analysis on raw data (mean and std dev.) over time\n",
    "- ranking of cities regarding std. dev and mean\n",
    "- grouping by state and analysis on data (mean, std dev.) between german states (also comparison between eastern and western) (generate dictionary from https://www.wohnung.com/alle-staedte) via selenium or mechanize\n",
    "- heatmap of rental prices by state (geopandas) comparison between 2010/2017\n",
    "#####################################################\n",
    "- income per capita vs. rental prices (calculation of p-values) get add. data from https://de.wikipedia.org/wiki/Liste_der_deutschen_Bundesl%C3%A4nder_nach_Haushaltseinkommen\n",
    "- differences in rental pricing between eastern and western germany with t-SNE (visual)"
   ]
  },
  {
   "cell_type": "markdown",
   "metadata": {},
   "source": [
    "__Additional:__\n",
    "\n",
    "- get search requests from ebay kleinanzeigen and analyze frequency of description words\n",
    "- ratio of flats with bathub or parking lot etc."
   ]
  }
 ],
 "metadata": {
  "interpreter": {
   "hash": "d0cff29ded7581e4a8b55f3bc64b26ec725c5d60771d2be28b843625a2d501a7"
  },
  "kernelspec": {
   "display_name": "Python 3.8.8 64-bit ('base': conda)",
   "language": "python",
   "name": "python3"
  },
  "language_info": {
   "codemirror_mode": {
    "name": "ipython",
    "version": 3
   },
   "file_extension": ".py",
   "mimetype": "text/x-python",
   "name": "python",
   "nbconvert_exporter": "python",
   "pygments_lexer": "ipython3",
   "version": "3.8.8"
  },
  "orig_nbformat": 4
 },
 "nbformat": 4,
 "nbformat_minor": 2
}
